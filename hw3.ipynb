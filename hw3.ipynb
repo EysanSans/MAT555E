{
 "cells": [
  {
   "cell_type": "markdown",
   "id": "268f49f5",
   "metadata": {},
   "source": [
    "Question 1"
   ]
  },
  {
   "cell_type": "code",
   "execution_count": 1,
   "id": "636500d2",
   "metadata": {},
   "outputs": [],
   "source": [
    "import numpy as np\n",
    "from scipy.io.matlab import loadmat\n",
    "from scipy.optimize import linear_sum_assignment"
   ]
  },
  {
   "cell_type": "code",
   "execution_count": 9,
   "id": "04596eae",
   "metadata": {},
   "outputs": [
    {
     "data": {
      "text/plain": [
       "(512, 217, 204)"
      ]
     },
     "execution_count": 9,
     "metadata": {},
     "output_type": "execute_result"
    }
   ],
   "source": [
    "salinas = loadmat('data/Salinas_corrected.mat')['salinas_corrected']\n",
    "salinas.shape"
   ]
  },
  {
   "cell_type": "code",
   "execution_count": 10,
   "id": "cdc16b8b",
   "metadata": {},
   "outputs": [
    {
     "data": {
      "text/plain": [
       "(512, 217)"
      ]
     },
     "execution_count": 10,
     "metadata": {},
     "output_type": "execute_result"
    }
   ],
   "source": [
    "salinas_gt = loadmat('data/Salinas_gt.mat')['salinas_gt']\n",
    "salinas_gt.shape"
   ]
  },
  {
   "cell_type": "code",
   "execution_count": 11,
   "id": "7e9082cf",
   "metadata": {},
   "outputs": [],
   "source": [
    "from sklearn.model_selection import train_test_split"
   ]
  },
  {
   "cell_type": "code",
   "execution_count": 12,
   "id": "4e47fa61",
   "metadata": {},
   "outputs": [],
   "source": [
    "X = salinas.reshape((512*217,204))\n",
    "y = salinas_gt.reshape(512*217)\n",
    "\n",
    "X_train, X_test, y_train, y_test = train_test_split(X,y,train_size=0.80)"
   ]
  },
  {
   "cell_type": "code",
   "execution_count": 13,
   "id": "a3575442",
   "metadata": {},
   "outputs": [
    {
     "data": {
      "text/plain": [
       "array([ 0,  1,  2,  3,  4,  5,  6,  7,  8,  9, 10, 11, 12, 13, 14, 15, 16],\n",
       "      dtype=uint8)"
      ]
     },
     "execution_count": 13,
     "metadata": {},
     "output_type": "execute_result"
    }
   ],
   "source": [
    "np.unique(y)"
   ]
  },
  {
   "cell_type": "code",
   "execution_count": 14,
   "id": "0626e27c",
   "metadata": {},
   "outputs": [],
   "source": [
    "from sklearn.metrics import confusion_matrix, accuracy_score\n",
    "from sklearn.neighbors import KNeighborsClassifier\n",
    "from sklearn.cluster import KMeans, DBSCAN\n",
    "from scipy.stats import chisquare"
   ]
  },
  {
   "cell_type": "code",
   "execution_count": 15,
   "id": "7c77871b",
   "metadata": {},
   "outputs": [],
   "source": [
    "model = KNeighborsClassifier(n_neighbors=7)\n",
    "model.fit(X_train,y_train)\n",
    "predicted = model.predict(X_test)\n",
    "cm = confusion_matrix(y_test,predicted)"
   ]
  },
  {
   "cell_type": "code",
   "execution_count": 16,
   "id": "c3a9a1b0",
   "metadata": {},
   "outputs": [
    {
     "data": {
      "text/plain": [
       "0.9060348319157554"
      ]
     },
     "execution_count": 16,
     "metadata": {},
     "output_type": "execute_result"
    }
   ],
   "source": [
    "model.score(X_test,y_test)"
   ]
  },
  {
   "cell_type": "code",
   "execution_count": 17,
   "id": "5f835a0c",
   "metadata": {},
   "outputs": [
    {
     "data": {
      "text/plain": [
       "Power_divergenceResult(statistic=1572434.2704648757, pvalue=0.0)"
      ]
     },
     "execution_count": 17,
     "metadata": {},
     "output_type": "execute_result"
    }
   ],
   "source": [
    "chisquare(cm,axis=None)"
   ]
  },
  {
   "cell_type": "code",
   "execution_count": 18,
   "id": "1f77fb25",
   "metadata": {},
   "outputs": [
    {
     "data": {
      "text/plain": [
       "Power_divergenceResult(statistic=1608200.0493051556, pvalue=0.0)"
      ]
     },
     "execution_count": 18,
     "metadata": {},
     "output_type": "execute_result"
    }
   ],
   "source": [
    "k = len(np.unique(y))\n",
    "model = KMeans(n_clusters=k)\n",
    "predicted = model.fit_predict(X)\n",
    "cm = confusion_matrix(y,predicted)\n",
    "chisquare(cm,axis=None)"
   ]
  },
  {
   "cell_type": "code",
   "execution_count": 19,
   "id": "5a4e2f4a",
   "metadata": {},
   "outputs": [
    {
     "data": {
      "text/plain": [
       "Power_divergenceResult(statistic=10222045.201756908, pvalue=0.0)"
      ]
     },
     "execution_count": 19,
     "metadata": {},
     "output_type": "execute_result"
    }
   ],
   "source": [
    "model = DBSCAN()\n",
    "model.fit(X)\n",
    "predicted = model.fit_predict(X)\n",
    "chisquare(confusion_matrix(y,predicted),axis=None)"
   ]
  },
  {
   "cell_type": "markdown",
   "id": "6ee40209",
   "metadata": {},
   "source": [
    "Question 2"
   ]
  },
  {
   "cell_type": "code",
   "execution_count": 22,
   "id": "3e7d4251",
   "metadata": {},
   "outputs": [],
   "source": [
    "from sklearn.svm import LinearSVC,SVC\n",
    "from sklearn.preprocessing import MinMaxScaler\n",
    "import matplotlib.pyplot as plt"
   ]
  },
  {
   "cell_type": "code",
   "execution_count": 23,
   "id": "bffbc81f",
   "metadata": {},
   "outputs": [
    {
     "name": "stderr",
     "output_type": "stream",
     "text": [
      "c:\\users\\eysan.sans\\appdata\\local\\programs\\python\\python37\\lib\\site-packages\\sklearn\\svm\\_base.py:249: ConvergenceWarning: Solver terminated early (max_iter=12500).  Consider pre-processing your data with StandardScaler or MinMaxScaler.\n",
      "  % self.max_iter, ConvergenceWarning)\n"
     ]
    },
    {
     "name": "stdout",
     "output_type": "stream",
     "text": [
      "0.7591017505962828\n"
     ]
    },
    {
     "data": {
      "text/plain": [
       "array([[10768,     2,     2,   364,   272,   520,    17,     3,    30,\n",
       "         1242,   173,   221,   367,   180,    30,    15,    35],\n",
       "       [   88,   379,     0,     0,     0,     0,     0,     0,     0,\n",
       "            0,     0,     0,     0,     0,     0,     0,     0],\n",
       "       [  110,     5,   720,     0,     0,     0,     0,     0,     0,\n",
       "            0,     0,     0,     0,     0,     0,     0,     0],\n",
       "       [    0,     0,     0,     0,     0,     0,     0,     0,     0,\n",
       "            0,     0,     0,     0,     0,     0,     0,     0],\n",
       "       [    0,     0,     0,     0,     0,     0,     0,     0,     0,\n",
       "            0,     0,     0,     0,     0,     0,     0,     0],\n",
       "       [    0,     0,     0,     0,     0,     0,     0,     0,     0,\n",
       "            0,     0,     0,     0,     0,     0,     0,     0],\n",
       "       [  108,     0,     0,     0,     0,     0,   773,     0,     0,\n",
       "            0,     0,     0,     0,     0,     0,     0,     0],\n",
       "       [   91,     0,     0,     0,     0,     0,     0,   709,     1,\n",
       "            0,     0,     0,     0,     0,     0,     0,     3],\n",
       "       [  146,     0,     0,     0,     0,     0,     0,     0,  2014,\n",
       "            0,    36,     0,     0,     0,     0,   856,     4],\n",
       "       [    0,     0,     0,     0,     0,     0,     0,     0,     0,\n",
       "            0,     0,     0,     0,     0,     0,     0,     0],\n",
       "       [  100,     0,     0,     0,     0,     0,     0,     0,    20,\n",
       "            0,   411,     0,     0,     0,     0,     7,     0],\n",
       "       [    0,     0,     0,     0,     0,     0,     0,     0,     0,\n",
       "            0,     0,     0,     0,     0,     0,     0,     0],\n",
       "       [    0,     0,     0,     0,     0,     0,     0,     0,     0,\n",
       "            0,     0,     0,     0,     0,     0,     0,     0],\n",
       "       [    0,     0,     0,     0,     0,     0,     0,     0,     0,\n",
       "            0,     0,     0,     0,     0,     0,     0,     0],\n",
       "       [   67,     0,     0,     0,     0,     0,     0,     0,     0,\n",
       "            0,     2,     0,     0,     3,   167,     0,     0],\n",
       "       [   71,     0,     0,     0,     0,     0,     0,     0,   125,\n",
       "            0,     2,     0,     0,     0,     0,   599,    14],\n",
       "       [   21,     0,     0,     0,     0,     0,     0,     0,     0,\n",
       "            0,     0,     0,     0,     0,     0,     0,   328]],\n",
       "      dtype=int64)"
      ]
     },
     "execution_count": 23,
     "metadata": {},
     "output_type": "execute_result"
    }
   ],
   "source": [
    "model1 = SVC(C=1.1,\n",
    "             degree=2,\n",
    "             kernel='poly',\n",
    "             max_iter=12500,\n",
    "             tol=1e-4)\n",
    "model1.fit(X_train,y_train)\n",
    "\n",
    "predicted = model1.predict(X_test)\n",
    "\n",
    "print(accuracy_score(predicted,y_test))\n",
    "confusion_matrix(predicted,y_test)"
   ]
  },
  {
   "cell_type": "code",
   "execution_count": 25,
   "id": "61e6da04",
   "metadata": {},
   "outputs": [
    {
     "data": {
      "text/plain": [
       "array([[12180,   697,  2792,   902,  4109,  9540,   604,   652,   789,\n",
       "        13109,  2732,  5366,    66,  1588,   884,   666,   299],\n",
       "       [    0,  2004,     5,     0,     0,     0,     0,     0,     0,\n",
       "            0,     0,     0,     0,     0,     0,     0,     0],\n",
       "       [    0,  2136,  1475,     0,     0,     0,     0,    96,     2,\n",
       "            0,     0,     0,     0,     0,    12,     0,     5],\n",
       "       [ 1420,     0,     0,     0,     2,   316,     0,     0,     0,\n",
       "          238,     0,     0,     0,     0,     0,     0,     0],\n",
       "       [    0,     0,     0,     0,  1384,    10,     0,     0,     0,\n",
       "            0,     0,     0,     0,     0,     0,     0,     0],\n",
       "       [   98,     0,     0,     1,    31,  2543,     0,     0,     0,\n",
       "            0,     0,     5,     0,     0,     0,     0,     0],\n",
       "       [    1,     0,     0,     0,     0,     0,  3747,     0,     0,\n",
       "            3,    91,    95,     0,     2,    20,     0,     0],\n",
       "       [    1,     0,     6,     0,     0,     1,     0,  3473,     6,\n",
       "            0,     0,     0,     0,     3,     0,     0,    89],\n",
       "       [    1,     0,     0,     0,     1,     0,     0,     6,  7669,\n",
       "           10,     9,    64,     0,   389,    12,  2971,   139],\n",
       "       [    0,     0,     0,     0,     0,     0,     0,     0,     0,\n",
       "         5606,     2,   586,     0,     9,     0,     0,     0],\n",
       "       [  122,     0,     0,     0,     3,    14,     0,     1,    87,\n",
       "         1578,    16,   575,     0,   845,    32,     5,     0],\n",
       "       [   41,     0,     0,     0,     0,     3,     0,     0,     0,\n",
       "          226,     0,   798,     0,     0,     0,     0,     0],\n",
       "       [ 1877,     0,     0,     0,     0,     5,     0,     0,     0,\n",
       "           37,     0,     0,     0,     8,     0,     0,     0],\n",
       "       [    0,     0,     0,     0,     0,     0,     0,     0,     0,\n",
       "            0,     0,     0,     0,   903,    13,     0,     0],\n",
       "       [    0,     0,     0,     0,     0,     0,     0,     0,    30,\n",
       "            1,     0,     6,     0,    78,   951,     3,     1],\n",
       "       [   16,     0,     0,     0,     3,    22,     0,     0,  3460,\n",
       "           13,     0,     0,     0,   122,     1,  3570,    61],\n",
       "       [    6,     0,     0,     0,    40,     6,     0,   256,   325,\n",
       "            4,     0,     0,     0,     1,     0,   320,   849]],\n",
       "      dtype=int64)"
      ]
     },
     "execution_count": 25,
     "metadata": {},
     "output_type": "execute_result"
    }
   ],
   "source": [
    "rows, cols = linear_sum_assignment(cm,maximize=True)\n",
    "cm = cm[rows,:]\n",
    "cm = cm[:,cols]\n",
    "cm"
   ]
  },
  {
   "cell_type": "markdown",
   "id": "06d53474",
   "metadata": {},
   "source": [
    "Question 3"
   ]
  },
  {
   "cell_type": "code",
   "execution_count": 26,
   "id": "1a0b6dbc",
   "metadata": {},
   "outputs": [],
   "source": [
    "import numpy as np\n",
    "import pandas as pd\n",
    "import math\n",
    "\n",
    "from sklearn import datasets\n",
    "from sklearn.decomposition import PCA\n",
    "from sklearn.discriminant_analysis import LinearDiscriminantAnalysis as LDA\n",
    "from sklearn.manifold import TSNE\n",
    "from sklearn.svm import SVC\n",
    "\n",
    "import matplotlib.pyplot as plt\n",
    "\n",
    "plt.rcParams['figure.figsize'] = (9,9)"
   ]
  },
  {
   "cell_type": "code",
   "execution_count": 27,
   "id": "6fa5a587",
   "metadata": {},
   "outputs": [
    {
     "data": {
      "text/plain": [
       "<matplotlib.collections.PathCollection at 0x1c88735a688>"
      ]
     },
     "execution_count": 27,
     "metadata": {},
     "output_type": "execute_result"
    },
    {
     "data": {
      "image/png": "[encoded data removed]",
      "text/plain": [
       "<Figure size 648x648 with 1 Axes>"
      ]
     },
     "metadata": {
      "needs_background": "light"
     },
     "output_type": "display_data"
    }
   ],
   "source": [
    "def randEllipse(ps,theta0,center,N):\n",
    "    a,b = ps\n",
    "    x0,y0 = center\n",
    "    rot = np.array([[math.cos(theta0),math.sin(theta0)],[-math.sin(theta0),math.cos(theta0)]])\n",
    "    result = []\n",
    "    for i in range(N):\n",
    "        r0 = np.random.normal(loc=1.0,scale=0.5)\n",
    "        theta = np.random.uniform(0, 2*math.pi)\n",
    "        point = np.matmul(np.array([x0+a*r0*math.cos(theta),y0+b*r0*math.sin(theta)]),rot)\n",
    "        result.append(point)\n",
    "    return result\n",
    "\n",
    "cloud = np.array(randEllipse((0.25,1),-math.pi/6,(0,0),200))\n",
    "data = pd.DataFrame({\"x\": cloud[:,0], \"y\": cloud[:,1]})\n",
    "\n",
    "plt.scatter(data[\"x\"],data[\"y\"])"
   ]
  },
  {
   "cell_type": "code",
   "execution_count": 28,
   "id": "bea1cea9",
   "metadata": {},
   "outputs": [
    {
     "name": "stdout",
     "output_type": "stream",
     "text": [
      "[1.85260366 0.14739634]\n"
     ]
    },
    {
     "data": {
      "text/plain": [
       "<matplotlib.lines._AxLine at 0x1c887407248>"
      ]
     },
     "execution_count": 28,
     "metadata": {},
     "output_type": "execute_result"
    },
    {
     "data": {
      "image/png": "[encoded data removed]",
      "text/plain": [
       "<Figure size 648x648 with 1 Axes>"
      ]
     },
     "metadata": {
      "needs_background": "light"
     },
     "output_type": "display_data"
    }
   ],
   "source": [
    "eigvals, eigvectors = np.linalg.eig(data.corr())\n",
    "print(eigvals)\n",
    "\n",
    "def perp(xs):\n",
    "    return [xs[1],-xs[0]]\n",
    "\n",
    "plt.scatter(data[\"x\"],data[\"y\"])\n",
    "plt.axline([0,0],perp(eigvectors[0]),c='green')\n",
    "plt.axline([0,0],eigvectors[0],c='red')"
   ]
  },
  {
   "cell_type": "code",
   "execution_count": 29,
   "id": "3e1b7e2b",
   "metadata": {},
   "outputs": [
    {
     "data": {
      "text/plain": [
       "<matplotlib.collections.PathCollection at 0x1c882001588>"
      ]
     },
     "execution_count": 29,
     "metadata": {},
     "output_type": "execute_result"
    },
    {
     "data": {
      "image/png": "[encoded data removed]",
      "text/plain": [
       "<Figure size 648x648 with 1 Axes>"
      ]
     },
     "metadata": {
      "needs_background": "light"
     },
     "output_type": "display_data"
    }
   ],
   "source": [
    "model = PCA()\n",
    "\n",
    "projected = model.fit_transform(data)\n",
    "\n",
    "plt.xlim((-2.5,2.5))\n",
    "plt.ylim((-2.5,2.5))\n",
    "plt.scatter(projected[:,0],np.zeros(len(projected)),c='green',alpha=0.2)\n",
    "plt.scatter(np.zeros(len(projected)),projected[:,1],c='red',alpha=0.2)"
   ]
  },
  {
   "cell_type": "code",
   "execution_count": null,
   "id": "b495bb0a",
   "metadata": {},
   "outputs": [],
   "source": []
  }
 ],
 "metadata": {
  "kernelspec": {
   "display_name": "Python 3",
   "language": "python",
   "name": "python3"
  },
  "language_info": {
   "codemirror_mode": {
    "name": "ipython",
    "version": 3
   },
   "file_extension": ".py",
   "mimetype": "text/x-python",
   "name": "python",
   "nbconvert_exporter": "python",
   "pygments_lexer": "ipython3",
   "version": "3.7.6"
  }
 },
 "nbformat": 4,
 "nbformat_minor": 5
}
